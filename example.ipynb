{
 "cells": [
  {
   "cell_type": "code",
   "execution_count": 1,
   "metadata": {
    "collapsed": false,
    "pycharm": {
     "name": "#%%\n"
    }
   },
   "outputs": [],
   "source": [
    "%matplotlib inline"
   ]
  },
  {
   "cell_type": "markdown",
   "metadata": {
    "pycharm": {
     "name": "#%% md\n"
    }
   },
   "source": [
    "We use the Quickstart tutorial from PyTorch ([link](https://pytorch.org/tutorials/beginner/basics/quickstart_tutorial.html)) for our example."
   ]
  },
  {
   "cell_type": "code",
   "execution_count": 2,
   "metadata": {
    "collapsed": false,
    "pycharm": {
     "name": "#%%\n"
    }
   },
   "outputs": [],
   "source": [
    "from pathlib import Path\n",
    "import logging\n",
    "import sys\n",
    "import torch\n",
    "from torch import nn\n",
    "from torch.utils.data import DataLoader\n",
    "from torchvision import datasets\n",
    "from torchvision.transforms import ToTensor\n",
    "from sniper import SniperTraining\n",
    "import numpy as np\n",
    "import matplotlib.pyplot as plt"
   ]
  },
  {
   "cell_type": "code",
   "execution_count": 3,
   "metadata": {
    "collapsed": false,
    "pycharm": {
     "name": "#%%\n"
    }
   },
   "outputs": [],
   "source": [
    "# Download training data from open datasets.\n",
    "training_data = datasets.FashionMNIST(\n",
    "    root=\"data\",\n",
    "    train=True,\n",
    "    download=True,\n",
    "    transform=ToTensor(),\n",
    ")\n",
    "\n",
    "# Download test data from open datasets.\n",
    "test_data = datasets.FashionMNIST(\n",
    "    root=\"data\",\n",
    "    train=False,\n",
    "    download=True,\n",
    "    transform=ToTensor(),\n",
    ")"
   ]
  },
  {
   "cell_type": "code",
   "execution_count": 4,
   "metadata": {
    "collapsed": false,
    "pycharm": {
     "name": "#%%\n"
    }
   },
   "outputs": [
    {
     "name": "stdout",
     "output_type": "stream",
     "text": [
      "Shape of X [N, C, H, W]: torch.Size([64, 1, 28, 28])\n",
      "Shape of y: torch.Size([64]) torch.int64\n"
     ]
    }
   ],
   "source": [
    "batch_size = 64\n",
    "\n",
    "# Create data loaders.\n",
    "train_dataloader = DataLoader(training_data, batch_size=batch_size)\n",
    "test_dataloader = DataLoader(test_data, batch_size=batch_size)\n",
    "\n",
    "for X, y in test_dataloader:\n",
    "    print(f\"Shape of X [N, C, H, W]: {X.shape}\")\n",
    "    print(f\"Shape of y: {y.shape} {y.dtype}\")\n",
    "    break"
   ]
  },
  {
   "cell_type": "code",
   "execution_count": 5,
   "metadata": {
    "collapsed": false,
    "pycharm": {
     "name": "#%%\n"
    }
   },
   "outputs": [
    {
     "name": "stdout",
     "output_type": "stream",
     "text": [
      "Using cuda device\n"
     ]
    }
   ],
   "source": [
    "# Get cpu or gpu device for training.\n",
    "device = \"cuda\" if torch.cuda.is_available() else \"cpu\"\n",
    "print(f\"Using {device} device\")\n",
    "\n",
    "# Define model\n",
    "class NeuralNetwork(nn.Module):\n",
    "    def __init__(self):\n",
    "        super().__init__()\n",
    "        self.flatten = nn.Flatten()\n",
    "        self.linear_relu_stack = nn.Sequential(\n",
    "            nn.Linear(28*28, 512),\n",
    "            nn.ReLU(),\n",
    "            nn.Linear(512, 512),\n",
    "            nn.ReLU(),\n",
    "            nn.Linear(512, 10)\n",
    "        )\n",
    "\n",
    "    def forward(self, x):\n",
    "        x = self.flatten(x)\n",
    "        logits = self.linear_relu_stack(x)\n",
    "        return logits"
   ]
  },
  {
   "cell_type": "code",
   "execution_count": 6,
   "outputs": [
    {
     "name": "stdout",
     "output_type": "stream",
     "text": [
      "NeuralNetwork(\n",
      "  (flatten): Flatten(start_dim=1, end_dim=-1)\n",
      "  (linear_relu_stack): Sequential(\n",
      "    (0): Linear(in_features=784, out_features=512, bias=True)\n",
      "    (1): ReLU()\n",
      "    (2): Linear(in_features=512, out_features=512, bias=True)\n",
      "    (3): ReLU()\n",
      "    (4): Linear(in_features=512, out_features=10, bias=True)\n",
      "  )\n",
      ")\n"
     ]
    }
   ],
   "source": [
    "model = NeuralNetwork().to(device)\n",
    "print(model)"
   ],
   "metadata": {
    "collapsed": false,
    "pycharm": {
     "name": "#%%\n"
    }
   }
  },
  {
   "cell_type": "markdown",
   "source": [
    "We have modified the learning rate for faster convergence, so that we can see how SNIPER works."
   ],
   "metadata": {
    "collapsed": false,
    "pycharm": {
     "name": "#%% md\n"
    }
   }
  },
  {
   "cell_type": "code",
   "execution_count": 7,
   "outputs": [],
   "source": [
    "loss_fn = nn.CrossEntropyLoss()\n",
    "optim_lr = 0.03"
   ],
   "metadata": {
    "collapsed": false,
    "pycharm": {
     "name": "#%%\n"
    }
   }
  },
  {
   "cell_type": "code",
   "execution_count": 8,
   "outputs": [],
   "source": [
    "def train(dataloader, model, loss_fn, optimizer):\n",
    "    # size = len(dataloader.dataset)\n",
    "    model.train()\n",
    "    for batch, (X, y) in enumerate(dataloader):\n",
    "        X, y = X.to(device), y.to(device)\n",
    "\n",
    "        # Compute prediction error\n",
    "        pred = model(X)\n",
    "        loss = loss_fn(pred, y)\n",
    "\n",
    "        # Backpropagation\n",
    "        optimizer.zero_grad()\n",
    "        loss.backward()\n",
    "        optimizer.step()\n",
    "\n",
    "        # if batch % 100 == 0:\n",
    "        #     loss, current = loss.item(), batch * len(X)\n",
    "        #     print(f\"loss: {loss:>7f}  [{current:>5d}/{size:>5d}]\")"
   ],
   "metadata": {
    "collapsed": false,
    "pycharm": {
     "name": "#%%\n"
    }
   }
  },
  {
   "cell_type": "code",
   "execution_count": 9,
   "outputs": [],
   "source": [
    "def test(dataloader, model, loss_fn):\n",
    "    size = len(dataloader.dataset)\n",
    "    num_batches = len(dataloader)\n",
    "    model.eval()\n",
    "    test_loss, correct = 0, 0\n",
    "    with torch.no_grad():\n",
    "        for X, y in dataloader:\n",
    "            X, y = X.to(device), y.to(device)\n",
    "            pred = model(X)\n",
    "            test_loss += loss_fn(pred, y).item()\n",
    "            correct += (pred.argmax(1) == y).type(torch.float).sum().item()\n",
    "    test_loss /= num_batches\n",
    "    test_acc = correct / size\n",
    "    print(f\"Test Error: \\n Accuracy: {(100*test_acc):>0.1f}%, Avg loss: {test_loss:>8f} \\n\")\n",
    "    return test_acc, test_loss"
   ],
   "metadata": {
    "collapsed": false,
    "pycharm": {
     "name": "#%%\n"
    }
   }
  },
  {
   "cell_type": "markdown",
   "source": [
    "We will use this `run_train_test` for both SNIPER training and normal training. The `hooks` are for us to add callables for SNIPER (we'll see this later)."
   ],
   "metadata": {
    "collapsed": false,
    "pycharm": {
     "name": "#%% md\n"
    }
   }
  },
  {
   "cell_type": "code",
   "execution_count": 10,
   "outputs": [],
   "source": [
    "def run_train_test(model, loss_fn, optimizer, epochs, hooks=()):\n",
    "    losses = []\n",
    "    for epoch in range(1, epochs+1):\n",
    "        print(f\"Epoch {epoch}\\n-------------------------------\")\n",
    "        train(train_dataloader, model, loss_fn, optimizer)\n",
    "        test_acc, test_loss = test(test_dataloader, model, loss_fn)\n",
    "        losses.append((epoch, test_acc, test_loss))\n",
    "        for hook in hooks:\n",
    "            hook()\n",
    "    return np.array(losses)"
   ],
   "metadata": {
    "collapsed": false,
    "pycharm": {
     "name": "#%%\n"
    }
   }
  },
  {
   "cell_type": "code",
   "execution_count": 11,
   "outputs": [],
   "source": [
    "# Set SNIPER global logger\n",
    "logger = logging.getLogger()\n",
    "logger.addHandler(logging.StreamHandler(stream=sys.stdout))\n",
    "logger.setLevel(logging.INFO)"
   ],
   "metadata": {
    "collapsed": false,
    "pycharm": {
     "name": "#%%\n"
    }
   }
  },
  {
   "cell_type": "code",
   "execution_count": 12,
   "outputs": [],
   "source": [
    "# Set working folder\n",
    "sniper_dir = Path('masks')\n",
    "sniper = SniperTraining(sniper_dir=sniper_dir, logger=logger)"
   ],
   "metadata": {
    "collapsed": false,
    "pycharm": {
     "name": "#%%\n"
    }
   }
  },
  {
   "cell_type": "markdown",
   "source": [
    "For simplicity, let us try setting a constant 80% sparsity first, and we will compare with the variable-sparsity training later."
   ],
   "metadata": {
    "collapsed": false,
    "pycharm": {
     "name": "#%% md\n"
    }
   }
  },
  {
   "cell_type": "code",
   "execution_count": 13,
   "outputs": [],
   "source": [
    "# Define sparsity schedule with {epoch: sparsity %}\n",
    "schedule = {0: 80}\n",
    "\n",
    "# Define variables needed for SNIPER training\n",
    "model_builder = NeuralNetwork\n",
    "snip_module_name = ''\n",
    "batch_iterator = train_dataloader\n",
    "def get_loss_fn(model, batch):\n",
    "    X, y = batch\n",
    "    X, y = X.to(device), y.to(device)\n",
    "    pred = model(X)\n",
    "    return loss_fn(pred, y)"
   ],
   "metadata": {
    "collapsed": false,
    "pycharm": {
     "name": "#%%\n"
    }
   }
  },
  {
   "cell_type": "markdown",
   "source": [
    "The optimizer needs to accept the param groups from `sniper` to modify learning rates. If you do not have a scheduler, `sniper` will **directly** modify the learning rates during sparsity changes. If you have a scheduler, you need to set it in `sniper` to change  `base_lrs` when sparsity changes."
   ],
   "metadata": {
    "collapsed": false,
    "pycharm": {
     "name": "#%% md\n"
    }
   }
  },
  {
   "cell_type": "code",
   "execution_count": 14,
   "outputs": [
    {
     "name": "stdout",
     "output_type": "stream",
     "text": [
      "SGD (\n",
      "Parameter Group 0\n",
      "    dampening: 0\n",
      "    foreach: None\n",
      "    lr: 0.03\n",
      "    maximize: False\n",
      "    momentum: 0\n",
      "    nesterov: False\n",
      "    weight_decay: 0\n",
      ")\n"
     ]
    }
   ],
   "source": [
    "params = model.parameters() if sniper.param_groups is None else sniper.param_groups\n",
    "optimizer = torch.optim.SGD(params, lr=optim_lr)\n",
    "print(optimizer)\n",
    "sniper.optimizers = [optimizer]\n",
    "# sniper.schedulers = [scheduler]  # if you are using a scheduler"
   ],
   "metadata": {
    "collapsed": false,
    "pycharm": {
     "name": "#%%\n"
    }
   }
  },
  {
   "cell_type": "markdown",
   "source": [
    "This is a minimal example; there are more options such as setting maximum sparsity of parameters (see documentation on `sniper.train()` for more info)."
   ],
   "metadata": {
    "collapsed": false,
    "pycharm": {
     "name": "#%% md\n"
    }
   }
  },
  {
   "cell_type": "code",
   "execution_count": 17,
   "outputs": [],
   "source": [
    "def sniper_train_test(sniper, schedule, optim_lr, loss_fn, epochs):\n",
    "    model = NeuralNetwork().to(device)\n",
    "\n",
    "    # This will save model initial values, and the masks of the scheduled sparsities, in `masks`.\n",
    "    sniper.train(\n",
    "        schedule=schedule,\n",
    "        model=model,\n",
    "        model_builder=model_builder,\n",
    "        snip_module_name=snip_module_name,\n",
    "        batch_iterator=batch_iterator,\n",
    "        get_loss_fn=get_loss_fn,\n",
    "        optim_lr=optim_lr,\n",
    "    )\n",
    "    params = model.parameters() if sniper.param_groups is None else sniper.param_groups\n",
    "    optimizer = torch.optim.SGD(params, lr=optim_lr)\n",
    "    print(optimizer)\n",
    "    sniper.optimizers = [optimizer]\n",
    "    # sniper.schedulers = [scheduler]  # if you are using a scheduler\n",
    "\n",
    "    # Add `sniper.step()` to your training loop.\n",
    "    losses = run_train_test(model, loss_fn, optimizer, epochs=epochs, hooks=[sniper.step])\n",
    "    return losses"
   ],
   "metadata": {
    "collapsed": false,
    "pycharm": {
     "name": "#%%\n"
    }
   }
  },
  {
   "cell_type": "code",
   "execution_count": 18,
   "outputs": [
    {
     "name": "stdout",
     "output_type": "stream",
     "text": [
      "Loading initial model state from masks/init_values.pt\n",
      "All required sparsities present, loading sparsity 80...\n",
      "Loaded mask from masks/masks_80.pt\n",
      "Adding mask operation to forward hook...\n",
      "Creating optimizer learning rates...\n",
      "SGD (\n",
      "Parameter Group 0\n",
      "    dampening: 0\n",
      "    foreach: None\n",
      "    lr: 0.1473417349810351\n",
      "    maximize: False\n",
      "    momentum: 0\n",
      "    name: linear_relu_stack.0.weight\n",
      "    nesterov: False\n",
      "    weight_decay: 0\n",
      "\n",
      "Parameter Group 1\n",
      "    dampening: 0\n",
      "    foreach: None\n",
      "    lr: 0.07314285714285715\n",
      "    maximize: False\n",
      "    momentum: 0\n",
      "    name: linear_relu_stack.0.bias\n",
      "    nesterov: False\n",
      "    weight_decay: 0\n",
      "\n",
      "Parameter Group 2\n",
      "    dampening: 0\n",
      "    foreach: None\n",
      "    lr: 0.16155799334401577\n",
      "    maximize: False\n",
      "    momentum: 0\n",
      "    name: linear_relu_stack.2.weight\n",
      "    nesterov: False\n",
      "    weight_decay: 0\n",
      "\n",
      "Parameter Group 3\n",
      "    dampening: 0\n",
      "    foreach: None\n",
      "    lr: 0.05525179856115108\n",
      "    maximize: False\n",
      "    momentum: 0\n",
      "    name: linear_relu_stack.2.bias\n",
      "    nesterov: False\n",
      "    weight_decay: 0\n",
      "\n",
      "Parameter Group 4\n",
      "    dampening: 0\n",
      "    foreach: None\n",
      "    lr: 0.05055957867017775\n",
      "    maximize: False\n",
      "    momentum: 0\n",
      "    name: linear_relu_stack.4.weight\n",
      "    nesterov: False\n",
      "    weight_decay: 0\n",
      "\n",
      "Parameter Group 5\n",
      "    dampening: 0\n",
      "    foreach: None\n",
      "    lr: 0.0375\n",
      "    maximize: False\n",
      "    momentum: 0\n",
      "    name: linear_relu_stack.4.bias\n",
      "    nesterov: False\n",
      "    weight_decay: 0\n",
      ")\n",
      "Epoch 1\n",
      "-------------------------------\n",
      "Test Error: \n",
      " Accuracy: 78.2%, Avg loss: 0.600253 \n",
      "\n",
      "Epoch 2\n",
      "-------------------------------\n",
      "Test Error: \n",
      " Accuracy: 81.5%, Avg loss: 0.499795 \n",
      "\n",
      "Epoch 3\n",
      "-------------------------------\n",
      "Test Error: \n",
      " Accuracy: 83.1%, Avg loss: 0.455181 \n",
      "\n",
      "Epoch 4\n",
      "-------------------------------\n",
      "Test Error: \n",
      " Accuracy: 83.8%, Avg loss: 0.439400 \n",
      "\n",
      "Epoch 5\n",
      "-------------------------------\n",
      "Test Error: \n",
      " Accuracy: 84.3%, Avg loss: 0.426554 \n",
      "\n",
      "Epoch 6\n",
      "-------------------------------\n",
      "Test Error: \n",
      " Accuracy: 84.7%, Avg loss: 0.415833 \n",
      "\n",
      "Epoch 7\n",
      "-------------------------------\n",
      "Test Error: \n",
      " Accuracy: 85.5%, Avg loss: 0.398758 \n",
      "\n",
      "Epoch 8\n",
      "-------------------------------\n",
      "Test Error: \n",
      " Accuracy: 86.3%, Avg loss: 0.378262 \n",
      "\n",
      "Epoch 9\n",
      "-------------------------------\n",
      "Test Error: \n",
      " Accuracy: 86.7%, Avg loss: 0.371385 \n",
      "\n",
      "Epoch 10\n",
      "-------------------------------\n",
      "Test Error: \n",
      " Accuracy: 87.0%, Avg loss: 0.359607 \n",
      "\n",
      "Epoch 11\n",
      "-------------------------------\n",
      "Test Error: \n",
      " Accuracy: 87.5%, Avg loss: 0.353670 \n",
      "\n",
      "Epoch 12\n",
      "-------------------------------\n",
      "Test Error: \n",
      " Accuracy: 87.5%, Avg loss: 0.352983 \n",
      "\n",
      "Epoch 13\n",
      "-------------------------------\n",
      "Test Error: \n",
      " Accuracy: 87.8%, Avg loss: 0.348137 \n",
      "\n",
      "Epoch 14\n",
      "-------------------------------\n",
      "Test Error: \n",
      " Accuracy: 87.9%, Avg loss: 0.344433 \n",
      "\n",
      "Epoch 15\n",
      "-------------------------------\n",
      "Test Error: \n",
      " Accuracy: 87.9%, Avg loss: 0.344471 \n",
      "\n",
      "Epoch 16\n",
      "-------------------------------\n",
      "Test Error: \n",
      " Accuracy: 88.0%, Avg loss: 0.344134 \n",
      "\n",
      "Epoch 17\n",
      "-------------------------------\n",
      "Test Error: \n",
      " Accuracy: 88.1%, Avg loss: 0.341097 \n",
      "\n",
      "Epoch 18\n",
      "-------------------------------\n",
      "Test Error: \n",
      " Accuracy: 88.0%, Avg loss: 0.342463 \n",
      "\n",
      "Epoch 19\n",
      "-------------------------------\n",
      "Test Error: \n",
      " Accuracy: 88.2%, Avg loss: 0.339855 \n",
      "\n",
      "Epoch 20\n",
      "-------------------------------\n",
      "Test Error: \n",
      " Accuracy: 88.1%, Avg loss: 0.337874 \n",
      "\n",
      "Epoch 21\n",
      "-------------------------------\n",
      "Test Error: \n",
      " Accuracy: 88.2%, Avg loss: 0.336692 \n",
      "\n",
      "Epoch 22\n",
      "-------------------------------\n",
      "Test Error: \n",
      " Accuracy: 88.3%, Avg loss: 0.338133 \n",
      "\n",
      "Epoch 23\n",
      "-------------------------------\n",
      "Test Error: \n",
      " Accuracy: 88.1%, Avg loss: 0.340041 \n",
      "\n",
      "Epoch 24\n",
      "-------------------------------\n",
      "Test Error: \n",
      " Accuracy: 88.0%, Avg loss: 0.345884 \n",
      "\n",
      "Epoch 25\n",
      "-------------------------------\n",
      "Test Error: \n",
      " Accuracy: 88.2%, Avg loss: 0.343130 \n",
      "\n",
      "Epoch 26\n",
      "-------------------------------\n",
      "Test Error: \n",
      " Accuracy: 88.4%, Avg loss: 0.339438 \n",
      "\n",
      "Epoch 27\n",
      "-------------------------------\n",
      "Test Error: \n",
      " Accuracy: 88.4%, Avg loss: 0.345293 \n",
      "\n",
      "Epoch 28\n",
      "-------------------------------\n",
      "Test Error: \n",
      " Accuracy: 88.4%, Avg loss: 0.347568 \n",
      "\n",
      "Epoch 29\n",
      "-------------------------------\n",
      "Test Error: \n",
      " Accuracy: 88.1%, Avg loss: 0.354132 \n",
      "\n",
      "Epoch 30\n",
      "-------------------------------\n",
      "Test Error: \n",
      " Accuracy: 88.0%, Avg loss: 0.369498 \n",
      "\n",
      "Epoch 31\n",
      "-------------------------------\n",
      "Test Error: \n",
      " Accuracy: 88.1%, Avg loss: 0.363759 \n",
      "\n",
      "Epoch 32\n",
      "-------------------------------\n",
      "Test Error: \n",
      " Accuracy: 88.2%, Avg loss: 0.368876 \n",
      "\n",
      "Epoch 33\n",
      "-------------------------------\n",
      "Test Error: \n",
      " Accuracy: 87.9%, Avg loss: 0.376280 \n",
      "\n",
      "Epoch 34\n",
      "-------------------------------\n",
      "Test Error: \n",
      " Accuracy: 88.0%, Avg loss: 0.371201 \n",
      "\n",
      "Epoch 35\n",
      "-------------------------------\n",
      "Test Error: \n",
      " Accuracy: 88.1%, Avg loss: 0.379124 \n",
      "\n",
      "Epoch 36\n",
      "-------------------------------\n",
      "Test Error: \n",
      " Accuracy: 88.0%, Avg loss: 0.387124 \n",
      "\n",
      "Epoch 37\n",
      "-------------------------------\n",
      "Test Error: \n",
      " Accuracy: 87.9%, Avg loss: 0.395121 \n",
      "\n",
      "Epoch 38\n",
      "-------------------------------\n",
      "Test Error: \n",
      " Accuracy: 88.1%, Avg loss: 0.391804 \n",
      "\n",
      "Epoch 39\n",
      "-------------------------------\n",
      "Test Error: \n",
      " Accuracy: 88.2%, Avg loss: 0.397700 \n",
      "\n",
      "Epoch 40\n",
      "-------------------------------\n",
      "Test Error: \n",
      " Accuracy: 87.7%, Avg loss: 0.413357 \n",
      "\n"
     ]
    }
   ],
   "source": [
    "sparsity80_losses = sniper_train_test(sniper, schedule, optim_lr=optim_lr, loss_fn=loss_fn, epochs=40)"
   ],
   "metadata": {
    "collapsed": false,
    "pycharm": {
     "name": "#%%\n"
    }
   }
  },
  {
   "cell_type": "code",
   "execution_count": 19,
   "outputs": [],
   "source": [
    "torch.save(model.state_dict(), \"sparsity80_model.pth\")"
   ],
   "metadata": {
    "collapsed": false,
    "pycharm": {
     "name": "#%%\n"
    }
   }
  },
  {
   "cell_type": "markdown",
   "source": [
    "Compare this to the normally trained model."
   ],
   "metadata": {
    "collapsed": false,
    "pycharm": {
     "name": "#%% md\n"
    }
   }
  },
  {
   "cell_type": "code",
   "execution_count": 21,
   "outputs": [
    {
     "name": "stdout",
     "output_type": "stream",
     "text": [
      "Epoch 1\n",
      "-------------------------------\n",
      "Test Error: \n",
      " Accuracy: 77.0%, Avg loss: 0.644728 \n",
      "\n",
      "Epoch 2\n",
      "-------------------------------\n",
      "Test Error: \n",
      " Accuracy: 79.3%, Avg loss: 0.567345 \n",
      "\n",
      "Epoch 3\n",
      "-------------------------------\n",
      "Test Error: \n",
      " Accuracy: 80.8%, Avg loss: 0.522061 \n",
      "\n",
      "Epoch 4\n",
      "-------------------------------\n",
      "Test Error: \n",
      " Accuracy: 82.2%, Avg loss: 0.490036 \n",
      "\n",
      "Epoch 5\n",
      "-------------------------------\n",
      "Test Error: \n",
      " Accuracy: 83.2%, Avg loss: 0.462711 \n",
      "\n",
      "Epoch 6\n",
      "-------------------------------\n",
      "Test Error: \n",
      " Accuracy: 84.1%, Avg loss: 0.435538 \n",
      "\n",
      "Epoch 7\n",
      "-------------------------------\n",
      "Test Error: \n",
      " Accuracy: 84.7%, Avg loss: 0.422167 \n",
      "\n",
      "Epoch 8\n",
      "-------------------------------\n",
      "Test Error: \n",
      " Accuracy: 85.1%, Avg loss: 0.409252 \n",
      "\n",
      "Epoch 9\n",
      "-------------------------------\n",
      "Test Error: \n",
      " Accuracy: 85.6%, Avg loss: 0.396777 \n",
      "\n",
      "Epoch 10\n",
      "-------------------------------\n",
      "Test Error: \n",
      " Accuracy: 85.8%, Avg loss: 0.389979 \n",
      "\n",
      "Epoch 11\n",
      "-------------------------------\n",
      "Test Error: \n",
      " Accuracy: 86.1%, Avg loss: 0.380579 \n",
      "\n",
      "Epoch 12\n",
      "-------------------------------\n",
      "Test Error: \n",
      " Accuracy: 86.3%, Avg loss: 0.375222 \n",
      "\n",
      "Epoch 13\n",
      "-------------------------------\n",
      "Test Error: \n",
      " Accuracy: 86.6%, Avg loss: 0.367420 \n",
      "\n",
      "Epoch 14\n",
      "-------------------------------\n",
      "Test Error: \n",
      " Accuracy: 86.8%, Avg loss: 0.363029 \n",
      "\n",
      "Epoch 15\n",
      "-------------------------------\n",
      "Test Error: \n",
      " Accuracy: 86.8%, Avg loss: 0.360597 \n",
      "\n",
      "Epoch 16\n",
      "-------------------------------\n",
      "Test Error: \n",
      " Accuracy: 86.9%, Avg loss: 0.358268 \n",
      "\n",
      "Epoch 17\n",
      "-------------------------------\n",
      "Test Error: \n",
      " Accuracy: 87.1%, Avg loss: 0.355601 \n",
      "\n",
      "Epoch 18\n",
      "-------------------------------\n",
      "Test Error: \n",
      " Accuracy: 87.2%, Avg loss: 0.351848 \n",
      "\n",
      "Epoch 19\n",
      "-------------------------------\n",
      "Test Error: \n",
      " Accuracy: 87.4%, Avg loss: 0.347734 \n",
      "\n",
      "Epoch 20\n",
      "-------------------------------\n",
      "Test Error: \n",
      " Accuracy: 87.4%, Avg loss: 0.347050 \n",
      "\n",
      "Epoch 21\n",
      "-------------------------------\n",
      "Test Error: \n",
      " Accuracy: 87.7%, Avg loss: 0.340314 \n",
      "\n",
      "Epoch 22\n",
      "-------------------------------\n",
      "Test Error: \n",
      " Accuracy: 87.7%, Avg loss: 0.338211 \n",
      "\n",
      "Epoch 23\n",
      "-------------------------------\n",
      "Test Error: \n",
      " Accuracy: 87.6%, Avg loss: 0.340480 \n",
      "\n",
      "Epoch 24\n",
      "-------------------------------\n",
      "Test Error: \n",
      " Accuracy: 87.7%, Avg loss: 0.340020 \n",
      "\n",
      "Epoch 25\n",
      "-------------------------------\n",
      "Test Error: \n",
      " Accuracy: 87.8%, Avg loss: 0.338504 \n",
      "\n",
      "Epoch 26\n",
      "-------------------------------\n",
      "Test Error: \n",
      " Accuracy: 88.1%, Avg loss: 0.333690 \n",
      "\n",
      "Epoch 27\n",
      "-------------------------------\n",
      "Test Error: \n",
      " Accuracy: 88.0%, Avg loss: 0.336540 \n",
      "\n",
      "Epoch 28\n",
      "-------------------------------\n",
      "Test Error: \n",
      " Accuracy: 88.0%, Avg loss: 0.334514 \n",
      "\n",
      "Epoch 29\n",
      "-------------------------------\n",
      "Test Error: \n",
      " Accuracy: 88.1%, Avg loss: 0.335475 \n",
      "\n",
      "Epoch 30\n",
      "-------------------------------\n",
      "Test Error: \n",
      " Accuracy: 88.2%, Avg loss: 0.336063 \n",
      "\n",
      "Epoch 31\n",
      "-------------------------------\n",
      "Test Error: \n",
      " Accuracy: 87.7%, Avg loss: 0.344922 \n",
      "\n",
      "Epoch 32\n",
      "-------------------------------\n",
      "Test Error: \n",
      " Accuracy: 88.2%, Avg loss: 0.335007 \n",
      "\n",
      "Epoch 33\n",
      "-------------------------------\n",
      "Test Error: \n",
      " Accuracy: 88.1%, Avg loss: 0.338308 \n",
      "\n",
      "Epoch 34\n",
      "-------------------------------\n",
      "Test Error: \n",
      " Accuracy: 88.0%, Avg loss: 0.338902 \n",
      "\n",
      "Epoch 35\n",
      "-------------------------------\n",
      "Test Error: \n",
      " Accuracy: 88.2%, Avg loss: 0.336609 \n",
      "\n",
      "Epoch 36\n",
      "-------------------------------\n",
      "Test Error: \n",
      " Accuracy: 88.4%, Avg loss: 0.336231 \n",
      "\n",
      "Epoch 37\n",
      "-------------------------------\n",
      "Test Error: \n",
      " Accuracy: 88.3%, Avg loss: 0.337740 \n",
      "\n",
      "Epoch 38\n",
      "-------------------------------\n",
      "Test Error: \n",
      " Accuracy: 88.4%, Avg loss: 0.339016 \n",
      "\n",
      "Epoch 39\n",
      "-------------------------------\n",
      "Test Error: \n",
      " Accuracy: 88.3%, Avg loss: 0.343035 \n",
      "\n",
      "Epoch 40\n",
      "-------------------------------\n",
      "Test Error: \n",
      " Accuracy: 88.4%, Avg loss: 0.342632 \n",
      "\n"
     ]
    }
   ],
   "source": [
    "model = NeuralNetwork().to(device)\n",
    "init_values = torch.load(sniper_dir / 'init_values.pt', map_location=device)\n",
    "model.load_state_dict(init_values)\n",
    "optimizer = torch.optim.SGD(model.parameters(), lr=optim_lr)\n",
    "normal_losses = run_train_test(model, loss_fn, optimizer, epochs=40)"
   ],
   "metadata": {
    "collapsed": false,
    "pycharm": {
     "name": "#%%\n"
    }
   }
  },
  {
   "cell_type": "code",
   "execution_count": 22,
   "outputs": [],
   "source": [
    "torch.save(model.state_dict(), \"original_model.pth\")"
   ],
   "metadata": {
    "collapsed": false,
    "pycharm": {
     "name": "#%%\n"
    }
   }
  },
  {
   "cell_type": "markdown",
   "source": [
    "Let's plot the losses."
   ],
   "metadata": {
    "collapsed": false,
    "pycharm": {
     "name": "#%% md\n"
    }
   }
  },
  {
   "cell_type": "code",
   "execution_count": 29,
   "outputs": [
    {
     "data": {
      "text/plain": "<matplotlib.legend.Legend at 0x7f8b609c3ee0>"
     },
     "execution_count": 29,
     "metadata": {},
     "output_type": "execute_result"
    },
    {
     "data": {
      "text/plain": "<Figure size 640x480 with 0 Axes>"
     },
     "metadata": {},
     "output_type": "display_data"
    },
    {
     "data": {
      "text/plain": "<Figure size 1280x480 with 2 Axes>",
      "image/png": "[encoded data removed]"
     },
     "metadata": {},
     "output_type": "display_data"
    }
   ],
   "source": [
    "width, height = plt.figure().get_size_inches()\n",
    "plt.figure(figsize=(width*2, height))\n",
    "\n",
    "# Test accuracy\n",
    "plt.subplot(1, 2, 1)\n",
    "plt.plot(sparsity80_losses[:, 0], sparsity80_losses[:, 1], 'y', label='sparsity80')\n",
    "plt.plot(normal_losses[:, 0], normal_losses[:, 1], 'b', label='normal')\n",
    "plt.xlabel('Epoch')\n",
    "plt.ylabel('Accuracy')\n",
    "\n",
    "# Test loss\n",
    "plt.subplot(1, 2, 2)\n",
    "plt.plot(sparsity80_losses[:, 0], sparsity80_losses[:, 2], 'y', label='sparsity80')\n",
    "plt.plot(normal_losses[:, 0], normal_losses[:, 2], 'b', label='normal')\n",
    "plt.xlabel('Epoch')\n",
    "plt.ylabel('Loss')\n",
    "\n",
    "plt.legend()"
   ],
   "metadata": {
    "collapsed": false,
    "pycharm": {
     "name": "#%%\n"
    }
   }
  },
  {
   "cell_type": "markdown",
   "source": [
    "We can see that 80% sparsity model (with SNIPER scaling the parameter learning rates according to each layer's sparsity) learns faster at the start but it hits maximum performance earlier than normal training. Combining both is the idea behind variable-rate training. Let's decay the sparsity in an approximately exponential way, and train again."
   ],
   "metadata": {
    "collapsed": false,
    "pycharm": {
     "name": "#%% md\n"
    }
   }
  },
  {
   "cell_type": "code",
   "execution_count": 25,
   "outputs": [],
   "source": [
    "schedule = {0: 80,\n",
    "            5: 40,\n",
    "            10: 20,\n",
    "            15: 10,\n",
    "            20: 0}"
   ],
   "metadata": {
    "collapsed": false,
    "pycharm": {
     "name": "#%%\n"
    }
   }
  },
  {
   "cell_type": "code",
   "execution_count": 26,
   "outputs": [
    {
     "name": "stdout",
     "output_type": "stream",
     "text": [
      "Loading initial model state from masks/init_values.pt\n",
      "All required sparsities present, loading sparsity 80...\n",
      "Loaded mask from masks/masks_80.pt\n",
      "Adding mask operation to forward hook...\n",
      "Creating optimizer learning rates...\n",
      "SGD (\n",
      "Parameter Group 0\n",
      "    dampening: 0\n",
      "    foreach: None\n",
      "    lr: 0.1473417349810351\n",
      "    maximize: False\n",
      "    momentum: 0\n",
      "    name: linear_relu_stack.0.weight\n",
      "    nesterov: False\n",
      "    weight_decay: 0\n",
      "\n",
      "Parameter Group 1\n",
      "    dampening: 0\n",
      "    foreach: None\n",
      "    lr: 0.07314285714285715\n",
      "    maximize: False\n",
      "    momentum: 0\n",
      "    name: linear_relu_stack.0.bias\n",
      "    nesterov: False\n",
      "    weight_decay: 0\n",
      "\n",
      "Parameter Group 2\n",
      "    dampening: 0\n",
      "    foreach: None\n",
      "    lr: 0.16155799334401577\n",
      "    maximize: False\n",
      "    momentum: 0\n",
      "    name: linear_relu_stack.2.weight\n",
      "    nesterov: False\n",
      "    weight_decay: 0\n",
      "\n",
      "Parameter Group 3\n",
      "    dampening: 0\n",
      "    foreach: None\n",
      "    lr: 0.05525179856115108\n",
      "    maximize: False\n",
      "    momentum: 0\n",
      "    name: linear_relu_stack.2.bias\n",
      "    nesterov: False\n",
      "    weight_decay: 0\n",
      "\n",
      "Parameter Group 4\n",
      "    dampening: 0\n",
      "    foreach: None\n",
      "    lr: 0.05055957867017775\n",
      "    maximize: False\n",
      "    momentum: 0\n",
      "    name: linear_relu_stack.4.weight\n",
      "    nesterov: False\n",
      "    weight_decay: 0\n",
      "\n",
      "Parameter Group 5\n",
      "    dampening: 0\n",
      "    foreach: None\n",
      "    lr: 0.0375\n",
      "    maximize: False\n",
      "    momentum: 0\n",
      "    name: linear_relu_stack.4.bias\n",
      "    nesterov: False\n",
      "    weight_decay: 0\n",
      ")\n",
      "Epoch 1\n",
      "-------------------------------\n",
      "Test Error: \n",
      " Accuracy: 78.2%, Avg loss: 0.600253 \n",
      "\n",
      "Epoch 2\n",
      "-------------------------------\n",
      "Test Error: \n",
      " Accuracy: 81.5%, Avg loss: 0.499795 \n",
      "\n",
      "Epoch 3\n",
      "-------------------------------\n",
      "Test Error: \n",
      " Accuracy: 83.1%, Avg loss: 0.455181 \n",
      "\n",
      "Epoch 4\n",
      "-------------------------------\n",
      "Test Error: \n",
      " Accuracy: 83.8%, Avg loss: 0.439400 \n",
      "\n",
      "Epoch 5\n",
      "-------------------------------\n",
      "Test Error: \n",
      " Accuracy: 84.3%, Avg loss: 0.426554 \n",
      "\n",
      "New sparsity scheduled: 40 -- replacing with new mask\n",
      "Loaded mask from masks/masks_40.pt\n",
      "Setting new learning rates\n",
      "Epoch 6\n",
      "-------------------------------\n",
      "Test Error: \n",
      " Accuracy: 86.2%, Avg loss: 0.380877 \n",
      "\n",
      "Epoch 7\n",
      "-------------------------------\n",
      "Test Error: \n",
      " Accuracy: 86.5%, Avg loss: 0.373803 \n",
      "\n",
      "Epoch 8\n",
      "-------------------------------\n",
      "Test Error: \n",
      " Accuracy: 86.7%, Avg loss: 0.368170 \n",
      "\n",
      "Epoch 9\n",
      "-------------------------------\n",
      "Test Error: \n",
      " Accuracy: 87.1%, Avg loss: 0.360801 \n",
      "\n",
      "Epoch 10\n",
      "-------------------------------\n",
      "Test Error: \n",
      " Accuracy: 87.2%, Avg loss: 0.355811 \n",
      "\n",
      "New sparsity scheduled: 20 -- replacing with new mask\n",
      "Loaded mask from masks/masks_20.pt\n",
      "Setting new learning rates\n",
      "Epoch 11\n",
      "-------------------------------\n",
      "Test Error: \n",
      " Accuracy: 87.6%, Avg loss: 0.346923 \n",
      "\n",
      "Epoch 12\n",
      "-------------------------------\n",
      "Test Error: \n",
      " Accuracy: 87.6%, Avg loss: 0.344525 \n",
      "\n",
      "Epoch 13\n",
      "-------------------------------\n",
      "Test Error: \n",
      " Accuracy: 87.8%, Avg loss: 0.341457 \n",
      "\n",
      "Epoch 14\n",
      "-------------------------------\n",
      "Test Error: \n",
      " Accuracy: 87.9%, Avg loss: 0.340305 \n",
      "\n",
      "Epoch 15\n",
      "-------------------------------\n",
      "Test Error: \n",
      " Accuracy: 88.0%, Avg loss: 0.337387 \n",
      "\n",
      "New sparsity scheduled: 10 -- replacing with new mask\n",
      "Loaded mask from masks/masks_10.pt\n",
      "Setting new learning rates\n",
      "Epoch 16\n",
      "-------------------------------\n",
      "Test Error: \n",
      " Accuracy: 88.3%, Avg loss: 0.333153 \n",
      "\n",
      "Epoch 17\n",
      "-------------------------------\n",
      "Test Error: \n",
      " Accuracy: 88.3%, Avg loss: 0.332452 \n",
      "\n",
      "Epoch 18\n",
      "-------------------------------\n",
      "Test Error: \n",
      " Accuracy: 88.5%, Avg loss: 0.330979 \n",
      "\n",
      "Epoch 19\n",
      "-------------------------------\n",
      "Test Error: \n",
      " Accuracy: 88.5%, Avg loss: 0.328960 \n",
      "\n",
      "Epoch 20\n",
      "-------------------------------\n",
      "Test Error: \n",
      " Accuracy: 88.6%, Avg loss: 0.330105 \n",
      "\n",
      "New sparsity is 0 -- removing mask\n",
      "Restoring original learning rates\n",
      "Epoch 21\n",
      "-------------------------------\n",
      "Test Error: \n",
      " Accuracy: 88.7%, Avg loss: 0.325444 \n",
      "\n",
      "Epoch 22\n",
      "-------------------------------\n",
      "Test Error: \n",
      " Accuracy: 88.7%, Avg loss: 0.325702 \n",
      "\n",
      "Epoch 23\n",
      "-------------------------------\n",
      "Test Error: \n",
      " Accuracy: 88.7%, Avg loss: 0.324544 \n",
      "\n",
      "Epoch 24\n",
      "-------------------------------\n",
      "Test Error: \n",
      " Accuracy: 88.7%, Avg loss: 0.326585 \n",
      "\n",
      "Epoch 25\n",
      "-------------------------------\n",
      "Test Error: \n",
      " Accuracy: 88.7%, Avg loss: 0.325965 \n",
      "\n",
      "Epoch 26\n",
      "-------------------------------\n",
      "Test Error: \n",
      " Accuracy: 88.7%, Avg loss: 0.326641 \n",
      "\n",
      "Epoch 27\n",
      "-------------------------------\n",
      "Test Error: \n",
      " Accuracy: 88.8%, Avg loss: 0.326254 \n",
      "\n",
      "Epoch 28\n",
      "-------------------------------\n",
      "Test Error: \n",
      " Accuracy: 88.8%, Avg loss: 0.327299 \n",
      "\n",
      "Epoch 29\n",
      "-------------------------------\n",
      "Test Error: \n",
      " Accuracy: 88.7%, Avg loss: 0.329613 \n",
      "\n",
      "Epoch 30\n",
      "-------------------------------\n",
      "Test Error: \n",
      " Accuracy: 88.8%, Avg loss: 0.330234 \n",
      "\n",
      "Epoch 31\n",
      "-------------------------------\n",
      "Test Error: \n",
      " Accuracy: 88.6%, Avg loss: 0.334216 \n",
      "\n",
      "Epoch 32\n",
      "-------------------------------\n",
      "Test Error: \n",
      " Accuracy: 88.9%, Avg loss: 0.330973 \n",
      "\n",
      "Epoch 33\n",
      "-------------------------------\n",
      "Test Error: \n",
      " Accuracy: 88.8%, Avg loss: 0.333193 \n",
      "\n",
      "Epoch 34\n",
      "-------------------------------\n",
      "Test Error: \n",
      " Accuracy: 88.7%, Avg loss: 0.338157 \n",
      "\n",
      "Epoch 35\n",
      "-------------------------------\n",
      "Test Error: \n",
      " Accuracy: 88.6%, Avg loss: 0.336387 \n",
      "\n",
      "Epoch 36\n",
      "-------------------------------\n",
      "Test Error: \n",
      " Accuracy: 88.6%, Avg loss: 0.337760 \n",
      "\n",
      "Epoch 37\n",
      "-------------------------------\n",
      "Test Error: \n",
      " Accuracy: 88.7%, Avg loss: 0.339462 \n",
      "\n",
      "Epoch 38\n",
      "-------------------------------\n",
      "Test Error: \n",
      " Accuracy: 88.7%, Avg loss: 0.339033 \n",
      "\n",
      "Epoch 39\n",
      "-------------------------------\n",
      "Test Error: \n",
      " Accuracy: 88.7%, Avg loss: 0.340351 \n",
      "\n",
      "Epoch 40\n",
      "-------------------------------\n",
      "Test Error: \n",
      " Accuracy: 88.7%, Avg loss: 0.340895 \n",
      "\n"
     ]
    }
   ],
   "source": [
    "sniper_losses = sniper_train_test(sniper, schedule, optim_lr=optim_lr, loss_fn=loss_fn, epochs=40)"
   ],
   "metadata": {
    "collapsed": false,
    "pycharm": {
     "name": "#%%\n"
    }
   }
  },
  {
   "cell_type": "code",
   "execution_count": 27,
   "outputs": [],
   "source": [
    "torch.save(model.state_dict(), \"sniper_model.pth\")"
   ],
   "metadata": {
    "collapsed": false,
    "pycharm": {
     "name": "#%%\n"
    }
   }
  },
  {
   "cell_type": "markdown",
   "source": [
    "Compare the losses now. We have the best of both worlds!"
   ],
   "metadata": {
    "collapsed": false,
    "pycharm": {
     "name": "#%% md\n"
    }
   }
  },
  {
   "cell_type": "code",
   "execution_count": 30,
   "outputs": [
    {
     "data": {
      "text/plain": "<matplotlib.legend.Legend at 0x7f8b60605b40>"
     },
     "execution_count": 30,
     "metadata": {},
     "output_type": "execute_result"
    },
    {
     "data": {
      "text/plain": "<Figure size 640x480 with 0 Axes>"
     },
     "metadata": {},
     "output_type": "display_data"
    },
    {
     "data": {
      "text/plain": "<Figure size 1280x480 with 2 Axes>",
      "image/png": "[encoded data removed]"
     },
     "metadata": {},
     "output_type": "display_data"
    }
   ],
   "source": [
    "width, height = plt.figure().get_size_inches()\n",
    "plt.figure(figsize=(width*2, height))\n",
    "\n",
    "# Test accuracy\n",
    "plt.subplot(1, 2, 1)\n",
    "plt.plot(sparsity80_losses[:, 0], sparsity80_losses[:, 1], 'y', label='sparsity80')\n",
    "plt.plot(normal_losses[:, 0], normal_losses[:, 1], 'b', label='normal')\n",
    "plt.plot(sniper_losses[:, 0], sniper_losses[:, 1], 'r', label='sniper')\n",
    "plt.xlabel('Epoch')\n",
    "plt.ylabel('Accuracy')\n",
    "\n",
    "# Test loss\n",
    "plt.subplot(1, 2, 2)\n",
    "plt.plot(sparsity80_losses[:, 0], sparsity80_losses[:, 2], 'y', label='sparsity80')\n",
    "plt.plot(normal_losses[:, 0], normal_losses[:, 2], 'b', label='normal')\n",
    "plt.plot(sniper_losses[:, 0], sniper_losses[:, 2], 'r', label='sniper')\n",
    "plt.xlabel('Epoch')\n",
    "plt.ylabel('Loss')\n",
    "\n",
    "plt.legend()"
   ],
   "metadata": {
    "collapsed": false,
    "pycharm": {
     "name": "#%%\n"
    }
   }
  }
 ],
 "metadata": {
  "kernelspec": {
   "display_name": "Python 3",
   "language": "python",
   "name": "python3"
  },
  "language_info": {
   "codemirror_mode": {
    "name": "ipython",
    "version": 3
   },
   "file_extension": ".py",
   "mimetype": "text/x-python",
   "name": "python",
   "nbconvert_exporter": "python",
   "pygments_lexer": "ipython3",
   "version": "3.10.4"
  }
 },
 "nbformat": 4,
 "nbformat_minor": 0
}