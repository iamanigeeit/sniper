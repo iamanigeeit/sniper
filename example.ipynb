{
 "cells": [
  {
   "cell_type": "code",
   "execution_count": 1,
   "metadata": {
    "ExecuteTime": {
     "end_time": "2024-06-04T20:14:50.945372Z",
     "start_time": "2024-06-04T20:14:50.653327Z"
    },
    "pycharm": {
     "name": "#%%\n"
    }
   },
   "outputs": [],
   "source": [
    "%matplotlib inline"
   ]
  },
  {
   "cell_type": "markdown",
   "metadata": {
    "pycharm": {
     "name": "#%% md\n"
    }
   },
   "source": [
    "We use the Quickstart tutorial from PyTorch ([link](https://pytorch.org/tutorials/beginner/basics/quickstart_tutorial.html)) for our example."
   ]
  },
  {
   "cell_type": "code",
   "execution_count": 2,
   "metadata": {
    "ExecuteTime": {
     "end_time": "2024-06-04T20:14:52.260616Z",
     "start_time": "2024-06-04T20:14:50.946483Z"
    }
   },
   "outputs": [],
   "source": [
    "from pathlib import Path\n",
    "import logging\n",
    "import sys\n",
    "import torch\n",
    "from torch import nn\n",
    "from torch.utils.data import DataLoader\n",
    "from torchvision import datasets\n",
    "from torchvision.transforms import ToTensor\n",
    "from sniper import SniperTraining\n",
    "import numpy as np\n",
    "import matplotlib.pyplot as plt"
   ]
  },
  {
   "cell_type": "code",
   "execution_count": 3,
   "metadata": {
    "ExecuteTime": {
     "end_time": "2024-06-04T20:14:52.321176Z",
     "start_time": "2024-06-04T20:14:52.261731Z"
    }
   },
   "outputs": [],
   "source": [
    "# Download training data from open datasets.\n",
    "training_data = datasets.FashionMNIST(\n",
    "    root=\"data\",\n",
    "    train=True,\n",
    "    download=True,\n",
    "    transform=ToTensor(),\n",
    ")\n",
    "\n",
    "# Download test data from open datasets.\n",
    "test_data = datasets.FashionMNIST(\n",
    "    root=\"data\",\n",
    "    train=False,\n",
    "    download=True,\n",
    "    transform=ToTensor(),\n",
    ")"
   ]
  },
  {
   "cell_type": "code",
   "execution_count": 4,
   "metadata": {
    "ExecuteTime": {
     "end_time": "2024-06-04T20:14:52.329520Z",
     "start_time": "2024-06-04T20:14:52.321949Z"
    }
   },
   "outputs": [
    {
     "name": "stdout",
     "output_type": "stream",
     "text": [
      "Shape of X [N, C, H, W]: torch.Size([64, 1, 28, 28])\n",
      "Shape of y: torch.Size([64]) torch.int64\n"
     ]
    }
   ],
   "source": [
    "batch_size = 64\n",
    "\n",
    "# Create data loaders.\n",
    "train_dataloader = DataLoader(training_data, batch_size=batch_size)\n",
    "test_dataloader = DataLoader(test_data, batch_size=batch_size)\n",
    "\n",
    "for X, y in test_dataloader:\n",
    "    print(f\"Shape of X [N, C, H, W]: {X.shape}\")\n",
    "    print(f\"Shape of y: {y.shape} {y.dtype}\")\n",
    "    break"
   ]
  },
  {
   "cell_type": "code",
   "execution_count": 5,
   "metadata": {
    "ExecuteTime": {
     "end_time": "2024-06-04T20:14:52.370934Z",
     "start_time": "2024-06-04T20:14:52.330862Z"
    }
   },
   "outputs": [
    {
     "name": "stdout",
     "output_type": "stream",
     "text": [
      "Using cuda device\n"
     ]
    }
   ],
   "source": [
    "# Get cpu or gpu device for training.\n",
    "device = \"cuda\" if torch.cuda.is_available() else \"cpu\"\n",
    "print(f\"Using {device} device\")\n",
    "\n",
    "# Define model\n",
    "class NeuralNetwork(nn.Module):\n",
    "    def __init__(self):\n",
    "        super().__init__()\n",
    "        self.flatten = nn.Flatten()\n",
    "        self.linear_relu_stack = nn.Sequential(\n",
    "            nn.Linear(28*28, 512),\n",
    "            nn.ReLU(),\n",
    "            nn.Linear(512, 512),\n",
    "            nn.ReLU(),\n",
    "            nn.Linear(512, 10)\n",
    "        )\n",
    "\n",
    "    def forward(self, x):\n",
    "        x = self.flatten(x)\n",
    "        logits = self.linear_relu_stack(x)\n",
    "        return logits"
   ]
  },
  {
   "cell_type": "code",
   "execution_count": 6,
   "metadata": {
    "ExecuteTime": {
     "end_time": "2024-06-04T20:14:52.461208Z",
     "start_time": "2024-06-04T20:14:52.371597Z"
    }
   },
   "outputs": [
    {
     "name": "stdout",
     "output_type": "stream",
     "text": [
      "NeuralNetwork(\n",
      "  (flatten): Flatten(start_dim=1, end_dim=-1)\n",
      "  (linear_relu_stack): Sequential(\n",
      "    (0): Linear(in_features=784, out_features=512, bias=True)\n",
      "    (1): ReLU()\n",
      "    (2): Linear(in_features=512, out_features=512, bias=True)\n",
      "    (3): ReLU()\n",
      "    (4): Linear(in_features=512, out_features=10, bias=True)\n",
      "  )\n",
      ")\n"
     ]
    }
   ],
   "source": [
    "model = NeuralNetwork().to(device)\n",
    "print(model)"
   ]
  },
  {
   "cell_type": "markdown",
   "metadata": {},
   "source": [
    "We have modified the learning rate for faster convergence, so that we can see how SNIPER works."
   ]
  },
  {
   "cell_type": "code",
   "execution_count": 7,
   "metadata": {
    "ExecuteTime": {
     "end_time": "2024-06-04T20:14:52.463878Z",
     "start_time": "2024-06-04T20:14:52.461946Z"
    }
   },
   "outputs": [],
   "source": [
    "loss_fn = nn.CrossEntropyLoss()\n",
    "optim_lr = 0.03"
   ]
  },
  {
   "cell_type": "code",
   "execution_count": 8,
   "metadata": {
    "ExecuteTime": {
     "end_time": "2024-06-04T20:14:52.468794Z",
     "start_time": "2024-06-04T20:14:52.464664Z"
    }
   },
   "outputs": [],
   "source": [
    "def train(dataloader, model, loss_fn, optimizer):\n",
    "    # size = len(dataloader.dataset)\n",
    "    model.train()\n",
    "    for batch, (X, y) in enumerate(dataloader):\n",
    "        X, y = X.to(device), y.to(device)\n",
    "\n",
    "        # Compute prediction error\n",
    "        pred = model(X)\n",
    "        loss = loss_fn(pred, y)\n",
    "\n",
    "        # Backpropagation\n",
    "        optimizer.zero_grad()\n",
    "        loss.backward()\n",
    "        optimizer.step()\n",
    "\n",
    "        # if batch % 100 == 0:\n",
    "        #     loss, current = loss.item(), batch * len(X)\n",
    "        #     print(f\"loss: {loss:>7f}  [{current:>5d}/{size:>5d}]\")"
   ]
  },
  {
   "cell_type": "code",
   "execution_count": 9,
   "metadata": {
    "ExecuteTime": {
     "end_time": "2024-06-04T20:14:52.473679Z",
     "start_time": "2024-06-04T20:14:52.469528Z"
    }
   },
   "outputs": [],
   "source": [
    "def test(dataloader, model, loss_fn):\n",
    "    size = len(dataloader.dataset)\n",
    "    num_batches = len(dataloader)\n",
    "    model.eval()\n",
    "    test_loss, correct = 0, 0\n",
    "    with torch.no_grad():\n",
    "        for X, y in dataloader:\n",
    "            X, y = X.to(device), y.to(device)\n",
    "            pred = model(X)\n",
    "            test_loss += loss_fn(pred, y).item()\n",
    "            correct += (pred.argmax(1) == y).type(torch.float).sum().item()\n",
    "    test_loss /= num_batches\n",
    "    test_acc = correct / size\n",
    "    print(f\"Test Error: \\n Accuracy: {(100*test_acc):>0.1f}%, Avg loss: {test_loss:>8f} \\n\")\n",
    "    return test_acc, test_loss"
   ]
  },
  {
   "cell_type": "markdown",
   "metadata": {},
   "source": [
    "To use SNIPER, we need to define the settings for SNIPER first."
   ]
  },
  {
   "cell_type": "code",
   "execution_count": 10,
   "metadata": {
    "ExecuteTime": {
     "end_time": "2024-06-04T20:14:52.479156Z",
     "start_time": "2024-06-04T20:14:52.474300Z"
    }
   },
   "outputs": [],
   "source": [
    "# Set SNIPER global logger\n",
    "logger = logging.getLogger()\n",
    "if not logger.handlers:\n",
    "    logger.addHandler(logging.StreamHandler(stream=sys.stdout))\n",
    "logger.setLevel(logging.INFO)"
   ]
  },
  {
   "cell_type": "code",
   "execution_count": 11,
   "metadata": {},
   "outputs": [],
   "source": [
    "# Set working folder\n",
    "sniper_dir = Path('masks')\n",
    "sniper = SniperTraining(sniper_dir=sniper_dir, logger=logger)"
   ]
  },
  {
   "cell_type": "markdown",
   "metadata": {},
   "source": [
    "For simplicity, let us try setting a constant 80% sparsity, and we will compare with the variable-sparsity training later."
   ]
  },
  {
   "cell_type": "code",
   "execution_count": 12,
   "metadata": {},
   "outputs": [],
   "source": [
    "# Define sparsity schedule with {epoch: sparsity %}\n",
    "schedule = {0: 80}\n",
    "\n",
    "# Define variables needed for SNIPER training\n",
    "model_builder = NeuralNetwork\n",
    "snip_module_name = ''\n",
    "batch_iterator = train_dataloader\n",
    "def get_loss_fn(model, batch):\n",
    "    X, y = batch\n",
    "    X, y = X.to(device), y.to(device)\n",
    "    pred = model(X)\n",
    "    return loss_fn(pred, y)"
   ]
  },
  {
   "cell_type": "markdown",
   "metadata": {},
   "source": [
    "The optimizer needs to accept the param groups from `sniper` to modify learning rates. If you do not have a scheduler, `sniper` will **directly** modify the learning rates during sparsity changes. If you have a scheduler, you need to set it in `sniper` to change  `base_lrs` when sparsity changes."
   ]
  },
  {
   "cell_type": "code",
   "execution_count": 13,
   "metadata": {},
   "outputs": [],
   "source": [
    "sniper_kwargs = dict(\n",
    "    schedule=schedule,\n",
    "    model_builder=model_builder,\n",
    "    snip_module_name=snip_module_name,\n",
    "    batch_iterator=batch_iterator,\n",
    "    get_loss_fn=get_loss_fn,\n",
    "    optim_lrs=[optim_lr],\n",
    ")"
   ]
  },
  {
   "cell_type": "markdown",
   "metadata": {},
   "source": [
    "This is a minimal example; there are more options such as setting maximum sparsity of parameters (see documentation on `sniper.train()` for more info)."
   ]
  },
  {
   "cell_type": "code",
   "execution_count": 37,
   "metadata": {},
   "outputs": [],
   "source": [
    "def train_test(model, epochs, sniper=None, sniper_kwargs=None):\n",
    "    # Create the optimizer with param names so that SNIPER knows which masks apply to which params\n",
    "    named_params = model.named_parameters()\n",
    "    param_groups = [{'name': name, 'params': param} for name, param in named_params]\n",
    "    optimizer = torch.optim.SGD(param_groups, lr=optim_lr)\n",
    "    print(optimizer)\n",
    "\n",
    "    if sniper_kwargs is not None:\n",
    "        # This will save model initial values, and the masks of the scheduled sparsities, in `masks`.\n",
    "        sniper.train(\n",
    "            model=model,\n",
    "            optimizers=[optimizer],\n",
    "            # schedulers=[scheduler], # if you have a scheduler\n",
    "            **sniper_kwargs,\n",
    "        )\n",
    "\n",
    "    # Add `sniper.step()` to your training loop.\n",
    "    losses = []\n",
    "    for epoch in range(1, epochs+1):\n",
    "        print(f\"Epoch {epoch}\\n-------------------------------\")\n",
    "        train(train_dataloader, model, loss_fn, optimizer)\n",
    "        test_acc, test_loss = test(test_dataloader, model, loss_fn)\n",
    "        losses.append((epoch, test_acc, test_loss))\n",
    "        if sniper is not None:\n",
    "            sniper.step()\n",
    "    return np.array(losses)"
   ]
  },
  {
   "cell_type": "code",
   "execution_count": 15,
   "metadata": {},
   "outputs": [
    {
     "name": "stdout",
     "output_type": "stream",
     "text": [
      "SGD (\n",
      "Parameter Group 0\n",
      "    dampening: 0\n",
      "    differentiable: False\n",
      "    foreach: None\n",
      "    lr: 0.03\n",
      "    maximize: False\n",
      "    momentum: 0\n",
      "    name: linear_relu_stack.0.weight\n",
      "    nesterov: False\n",
      "    weight_decay: 0\n",
      "\n",
      "Parameter Group 1\n",
      "    dampening: 0\n",
      "    differentiable: False\n",
      "    foreach: None\n",
      "    lr: 0.03\n",
      "    maximize: False\n",
      "    momentum: 0\n",
      "    name: linear_relu_stack.0.bias\n",
      "    nesterov: False\n",
      "    weight_decay: 0\n",
      "\n",
      "Parameter Group 2\n",
      "    dampening: 0\n",
      "    differentiable: False\n",
      "    foreach: None\n",
      "    lr: 0.03\n",
      "    maximize: False\n",
      "    momentum: 0\n",
      "    name: linear_relu_stack.2.weight\n",
      "    nesterov: False\n",
      "    weight_decay: 0\n",
      "\n",
      "Parameter Group 3\n",
      "    dampening: 0\n",
      "    differentiable: False\n",
      "    foreach: None\n",
      "    lr: 0.03\n",
      "    maximize: False\n",
      "    momentum: 0\n",
      "    name: linear_relu_stack.2.bias\n",
      "    nesterov: False\n",
      "    weight_decay: 0\n",
      "\n",
      "Parameter Group 4\n",
      "    dampening: 0\n",
      "    differentiable: False\n",
      "    foreach: None\n",
      "    lr: 0.03\n",
      "    maximize: False\n",
      "    momentum: 0\n",
      "    name: linear_relu_stack.4.weight\n",
      "    nesterov: False\n",
      "    weight_decay: 0\n",
      "\n",
      "Parameter Group 5\n",
      "    dampening: 0\n",
      "    differentiable: False\n",
      "    foreach: None\n",
      "    lr: 0.03\n",
      "    maximize: False\n",
      "    momentum: 0\n",
      "    name: linear_relu_stack.4.bias\n",
      "    nesterov: False\n",
      "    weight_decay: 0\n",
      ")\n",
      "Saving initial model state to masks/init_values.pt\n",
      "Computing gradients...\n",
      "Total trainable params: 669706\n",
      "Total params eligible to prune: 669706\n",
      "SNIP time: 7.4844324588775635\n",
      "SNIP time/batch: 0.007979139081959023\n",
      "Saved gradients to masks/total_grads.pt\n",
      "linear_relu_stack.0.weight: 401408 -> 81299\n",
      "linear_relu_stack.0.bias: 512 -> 205\n",
      "linear_relu_stack.2.weight: 262144 -> 49227\n",
      "linear_relu_stack.2.bias: 512 -> 280\n",
      "linear_relu_stack.4.weight: 5120 -> 2923\n",
      "linear_relu_stack.4.bias: 10 -> 8\n",
      "Saved masks at sparsity 80 to masks/masks_80.pt\n",
      "All required sparsities present\n",
      "Loading sparsity 80...\n",
      "Loaded mask from masks/masks_80.pt\n",
      "Setting new learning rates\n",
      "Adding mask operation to forward hook...\n",
      "Epoch 1\n",
      "-------------------------------\n",
      "Test Error: \n",
      " Accuracy: 77.3%, Avg loss: 0.619826 \n",
      "\n",
      "Epoch 2\n",
      "-------------------------------\n",
      "Test Error: \n",
      " Accuracy: 80.8%, Avg loss: 0.510305 \n",
      "\n",
      "Epoch 3\n",
      "-------------------------------\n",
      "Test Error: \n",
      " Accuracy: 82.8%, Avg loss: 0.460078 \n",
      "\n",
      "Epoch 4\n",
      "-------------------------------\n",
      "Test Error: \n",
      " Accuracy: 84.1%, Avg loss: 0.425374 \n",
      "\n",
      "Epoch 5\n",
      "-------------------------------\n",
      "Test Error: \n",
      " Accuracy: 84.7%, Avg loss: 0.407792 \n",
      "\n",
      "Epoch 6\n",
      "-------------------------------\n",
      "Test Error: \n",
      " Accuracy: 86.0%, Avg loss: 0.384318 \n",
      "\n",
      "Epoch 7\n",
      "-------------------------------\n",
      "Test Error: \n",
      " Accuracy: 86.3%, Avg loss: 0.376581 \n",
      "\n",
      "Epoch 8\n",
      "-------------------------------\n",
      "Test Error: \n",
      " Accuracy: 86.4%, Avg loss: 0.374703 \n",
      "\n",
      "Epoch 9\n",
      "-------------------------------\n",
      "Test Error: \n",
      " Accuracy: 87.0%, Avg loss: 0.360950 \n",
      "\n",
      "Epoch 10\n",
      "-------------------------------\n",
      "Test Error: \n",
      " Accuracy: 87.1%, Avg loss: 0.354753 \n",
      "\n",
      "Epoch 11\n",
      "-------------------------------\n",
      "Test Error: \n",
      " Accuracy: 87.2%, Avg loss: 0.352143 \n",
      "\n",
      "Epoch 12\n",
      "-------------------------------\n",
      "Test Error: \n",
      " Accuracy: 87.3%, Avg loss: 0.348941 \n",
      "\n",
      "Epoch 13\n",
      "-------------------------------\n",
      "Test Error: \n",
      " Accuracy: 87.4%, Avg loss: 0.346159 \n",
      "\n",
      "Epoch 14\n",
      "-------------------------------\n",
      "Test Error: \n",
      " Accuracy: 87.8%, Avg loss: 0.341911 \n",
      "\n",
      "Epoch 15\n",
      "-------------------------------\n",
      "Test Error: \n",
      " Accuracy: 87.4%, Avg loss: 0.344352 \n",
      "\n",
      "Epoch 16\n",
      "-------------------------------\n",
      "Test Error: \n",
      " Accuracy: 87.6%, Avg loss: 0.343066 \n",
      "\n",
      "Epoch 17\n",
      "-------------------------------\n",
      "Test Error: \n",
      " Accuracy: 87.6%, Avg loss: 0.343077 \n",
      "\n",
      "Epoch 18\n",
      "-------------------------------\n",
      "Test Error: \n",
      " Accuracy: 87.8%, Avg loss: 0.339168 \n",
      "\n",
      "Epoch 19\n",
      "-------------------------------\n",
      "Test Error: \n",
      " Accuracy: 87.7%, Avg loss: 0.343016 \n",
      "\n",
      "Epoch 20\n",
      "-------------------------------\n",
      "Test Error: \n",
      " Accuracy: 87.9%, Avg loss: 0.337880 \n",
      "\n",
      "Epoch 21\n",
      "-------------------------------\n",
      "Test Error: \n",
      " Accuracy: 87.8%, Avg loss: 0.340552 \n",
      "\n",
      "Epoch 22\n",
      "-------------------------------\n",
      "Test Error: \n",
      " Accuracy: 87.9%, Avg loss: 0.340303 \n",
      "\n",
      "Epoch 23\n",
      "-------------------------------\n",
      "Test Error: \n",
      " Accuracy: 87.9%, Avg loss: 0.339872 \n",
      "\n",
      "Epoch 24\n",
      "-------------------------------\n",
      "Test Error: \n",
      " Accuracy: 87.8%, Avg loss: 0.346843 \n",
      "\n",
      "Epoch 25\n",
      "-------------------------------\n",
      "Test Error: \n",
      " Accuracy: 87.9%, Avg loss: 0.343779 \n",
      "\n",
      "Epoch 26\n",
      "-------------------------------\n",
      "Test Error: \n",
      " Accuracy: 88.1%, Avg loss: 0.341179 \n",
      "\n",
      "Epoch 27\n",
      "-------------------------------\n",
      "Test Error: \n",
      " Accuracy: 88.1%, Avg loss: 0.340459 \n",
      "\n",
      "Epoch 28\n",
      "-------------------------------\n",
      "Test Error: \n",
      " Accuracy: 87.8%, Avg loss: 0.346123 \n",
      "\n",
      "Epoch 29\n",
      "-------------------------------\n",
      "Test Error: \n",
      " Accuracy: 87.6%, Avg loss: 0.355816 \n",
      "\n",
      "Epoch 30\n",
      "-------------------------------\n",
      "Test Error: \n",
      " Accuracy: 88.0%, Avg loss: 0.353725 \n",
      "\n"
     ]
    }
   ],
   "source": [
    "model = NeuralNetwork().to(device)\n",
    "sparsity80_losses = train_test(model, epochs=30, sniper=sniper, sniper_kwargs=sniper_kwargs)"
   ]
  },
  {
   "cell_type": "code",
   "execution_count": 16,
   "metadata": {},
   "outputs": [],
   "source": [
    "torch.save(model.state_dict(), \"sparsity80_model.pth\")"
   ]
  },
  {
   "cell_type": "markdown",
   "metadata": {},
   "source": [
    "Compare this to the normally trained model."
   ]
  },
  {
   "cell_type": "code",
   "execution_count": 17,
   "metadata": {},
   "outputs": [
    {
     "name": "stdout",
     "output_type": "stream",
     "text": [
      "SGD (\n",
      "Parameter Group 0\n",
      "    dampening: 0\n",
      "    differentiable: False\n",
      "    foreach: None\n",
      "    lr: 0.03\n",
      "    maximize: False\n",
      "    momentum: 0\n",
      "    name: linear_relu_stack.0.weight\n",
      "    nesterov: False\n",
      "    weight_decay: 0\n",
      "\n",
      "Parameter Group 1\n",
      "    dampening: 0\n",
      "    differentiable: False\n",
      "    foreach: None\n",
      "    lr: 0.03\n",
      "    maximize: False\n",
      "    momentum: 0\n",
      "    name: linear_relu_stack.0.bias\n",
      "    nesterov: False\n",
      "    weight_decay: 0\n",
      "\n",
      "Parameter Group 2\n",
      "    dampening: 0\n",
      "    differentiable: False\n",
      "    foreach: None\n",
      "    lr: 0.03\n",
      "    maximize: False\n",
      "    momentum: 0\n",
      "    name: linear_relu_stack.2.weight\n",
      "    nesterov: False\n",
      "    weight_decay: 0\n",
      "\n",
      "Parameter Group 3\n",
      "    dampening: 0\n",
      "    differentiable: False\n",
      "    foreach: None\n",
      "    lr: 0.03\n",
      "    maximize: False\n",
      "    momentum: 0\n",
      "    name: linear_relu_stack.2.bias\n",
      "    nesterov: False\n",
      "    weight_decay: 0\n",
      "\n",
      "Parameter Group 4\n",
      "    dampening: 0\n",
      "    differentiable: False\n",
      "    foreach: None\n",
      "    lr: 0.03\n",
      "    maximize: False\n",
      "    momentum: 0\n",
      "    name: linear_relu_stack.4.weight\n",
      "    nesterov: False\n",
      "    weight_decay: 0\n",
      "\n",
      "Parameter Group 5\n",
      "    dampening: 0\n",
      "    differentiable: False\n",
      "    foreach: None\n",
      "    lr: 0.03\n",
      "    maximize: False\n",
      "    momentum: 0\n",
      "    name: linear_relu_stack.4.bias\n",
      "    nesterov: False\n",
      "    weight_decay: 0\n",
      ")\n",
      "Epoch 1\n",
      "-------------------------------\n",
      "Test Error: \n",
      " Accuracy: 76.9%, Avg loss: 0.642568 \n",
      "\n",
      "Epoch 2\n",
      "-------------------------------\n",
      "Test Error: \n",
      " Accuracy: 79.1%, Avg loss: 0.568448 \n",
      "\n",
      "Epoch 3\n",
      "-------------------------------\n",
      "Test Error: \n",
      " Accuracy: 80.8%, Avg loss: 0.521181 \n",
      "\n",
      "Epoch 4\n",
      "-------------------------------\n",
      "Test Error: \n",
      " Accuracy: 82.1%, Avg loss: 0.487404 \n",
      "\n",
      "Epoch 5\n",
      "-------------------------------\n",
      "Test Error: \n",
      " Accuracy: 83.2%, Avg loss: 0.461772 \n",
      "\n",
      "Epoch 6\n",
      "-------------------------------\n",
      "Test Error: \n",
      " Accuracy: 84.0%, Avg loss: 0.438984 \n",
      "\n",
      "Epoch 7\n",
      "-------------------------------\n",
      "Test Error: \n",
      " Accuracy: 84.5%, Avg loss: 0.421391 \n",
      "\n",
      "Epoch 8\n",
      "-------------------------------\n",
      "Test Error: \n",
      " Accuracy: 84.9%, Avg loss: 0.410793 \n",
      "\n",
      "Epoch 9\n",
      "-------------------------------\n",
      "Test Error: \n",
      " Accuracy: 85.4%, Avg loss: 0.398546 \n",
      "\n",
      "Epoch 10\n",
      "-------------------------------\n",
      "Test Error: \n",
      " Accuracy: 85.7%, Avg loss: 0.390133 \n",
      "\n",
      "Epoch 11\n",
      "-------------------------------\n",
      "Test Error: \n",
      " Accuracy: 86.1%, Avg loss: 0.380983 \n",
      "\n",
      "Epoch 12\n",
      "-------------------------------\n",
      "Test Error: \n",
      " Accuracy: 86.4%, Avg loss: 0.375542 \n",
      "\n",
      "Epoch 13\n",
      "-------------------------------\n",
      "Test Error: \n",
      " Accuracy: 86.8%, Avg loss: 0.367109 \n",
      "\n",
      "Epoch 14\n",
      "-------------------------------\n",
      "Test Error: \n",
      " Accuracy: 86.9%, Avg loss: 0.363390 \n",
      "\n",
      "Epoch 15\n",
      "-------------------------------\n",
      "Test Error: \n",
      " Accuracy: 87.1%, Avg loss: 0.358171 \n",
      "\n",
      "Epoch 16\n",
      "-------------------------------\n",
      "Test Error: \n",
      " Accuracy: 87.4%, Avg loss: 0.351687 \n",
      "\n",
      "Epoch 17\n",
      "-------------------------------\n",
      "Test Error: \n",
      " Accuracy: 87.4%, Avg loss: 0.352042 \n",
      "\n",
      "Epoch 18\n",
      "-------------------------------\n",
      "Test Error: \n",
      " Accuracy: 87.8%, Avg loss: 0.345530 \n",
      "\n",
      "Epoch 19\n",
      "-------------------------------\n",
      "Test Error: \n",
      " Accuracy: 87.8%, Avg loss: 0.342948 \n",
      "\n",
      "Epoch 20\n",
      "-------------------------------\n",
      "Test Error: \n",
      " Accuracy: 88.0%, Avg loss: 0.338714 \n",
      "\n",
      "Epoch 21\n",
      "-------------------------------\n",
      "Test Error: \n",
      " Accuracy: 88.0%, Avg loss: 0.336742 \n",
      "\n",
      "Epoch 22\n",
      "-------------------------------\n",
      "Test Error: \n",
      " Accuracy: 88.0%, Avg loss: 0.336285 \n",
      "\n",
      "Epoch 23\n",
      "-------------------------------\n",
      "Test Error: \n",
      " Accuracy: 88.0%, Avg loss: 0.333945 \n",
      "\n",
      "Epoch 24\n",
      "-------------------------------\n",
      "Test Error: \n",
      " Accuracy: 88.4%, Avg loss: 0.330615 \n",
      "\n",
      "Epoch 25\n",
      "-------------------------------\n",
      "Test Error: \n",
      " Accuracy: 88.3%, Avg loss: 0.332742 \n",
      "\n",
      "Epoch 26\n",
      "-------------------------------\n",
      "Test Error: \n",
      " Accuracy: 88.5%, Avg loss: 0.328604 \n",
      "\n",
      "Epoch 27\n",
      "-------------------------------\n",
      "Test Error: \n",
      " Accuracy: 88.4%, Avg loss: 0.329328 \n",
      "\n",
      "Epoch 28\n",
      "-------------------------------\n",
      "Test Error: \n",
      " Accuracy: 88.5%, Avg loss: 0.325657 \n",
      "\n",
      "Epoch 29\n",
      "-------------------------------\n",
      "Test Error: \n",
      " Accuracy: 88.6%, Avg loss: 0.325847 \n",
      "\n",
      "Epoch 30\n",
      "-------------------------------\n",
      "Test Error: \n",
      " Accuracy: 88.4%, Avg loss: 0.328805 \n",
      "\n"
     ]
    }
   ],
   "source": [
    "model = NeuralNetwork().to(device)\n",
    "init_values = torch.load(sniper_dir / 'init_values.pt', map_location=device)\n",
    "model.load_state_dict(init_values)\n",
    "# optimizer = torch.optim.SGD(model.parameters(), lr=optim_lr)\n",
    "normal_losses = train_test(model, epochs=30, sniper=None, sniper_kwargs=None)"
   ]
  },
  {
   "cell_type": "code",
   "execution_count": 18,
   "metadata": {},
   "outputs": [],
   "source": [
    "torch.save(model.state_dict(), \"original_model.pth\")"
   ]
  },
  {
   "cell_type": "markdown",
   "metadata": {},
   "source": [
    "Let's plot the losses."
   ]
  },
  {
   "cell_type": "code",
   "execution_count": 19,
   "metadata": {
    "ExecuteTime": {
     "end_time": "2024-06-04T16:12:16.436232Z",
     "start_time": "2024-06-04T16:12:16.309352Z"
    }
   },
   "outputs": [
    {
     "data": {
      "text/plain": [
       "<matplotlib.legend.Legend at 0x7eb345cd31f0>"
      ]
     },
     "execution_count": 19,
     "metadata": {},
     "output_type": "execute_result"
    },
    {
     "data": {
      "text/plain": [
       "<Figure size 640x480 with 0 Axes>"
      ]
     },
     "metadata": {},
     "output_type": "display_data"
    },
    {
     "data": {
      "image/png": "[encoded data removed]",
      "text/plain": [
       "<Figure size 1280x480 with 2 Axes>"
      ]
     },
     "metadata": {},
     "output_type": "display_data"
    }
   ],
   "source": [
    "width, height = plt.figure().get_size_inches()\n",
    "plt.figure(figsize=(width*2, height))\n",
    "\n",
    "# Test accuracy\n",
    "plt.subplot(1, 2, 1)\n",
    "plt.plot(sparsity80_losses[:, 0], sparsity80_losses[:, 1], 'y', label='sparsity80')\n",
    "plt.plot(normal_losses[:, 0], normal_losses[:, 1], 'b', label='normal')\n",
    "plt.xlabel('Epoch')\n",
    "plt.ylabel('Accuracy')\n",
    "\n",
    "# Test loss\n",
    "plt.subplot(1, 2, 2)\n",
    "plt.plot(sparsity80_losses[:, 0], sparsity80_losses[:, 2], 'y', label='sparsity80')\n",
    "plt.plot(normal_losses[:, 0], normal_losses[:, 2], 'b', label='normal')\n",
    "plt.xlabel('Epoch')\n",
    "plt.ylabel('Loss')\n",
    "\n",
    "plt.legend()"
   ]
  },
  {
   "cell_type": "markdown",
   "metadata": {},
   "source": [
    "We can see that 80% sparsity model (with SNIPER scaling the parameter learning rates according to each layer's sparsity) learns faster at the start but it hits maximum performance earlier than normal training. Combining both is the idea behind variable-rate training. Let's decay the sparsity in an approximately exponential way, and train again."
   ]
  },
  {
   "cell_type": "code",
   "execution_count": 38,
   "metadata": {},
   "outputs": [],
   "source": [
    "sniper = SniperTraining(sniper_dir=sniper_dir, logger=logger)\n",
    "schedule = {0: 80,\n",
    "            5: 40,\n",
    "            10: 20,\n",
    "            15: 10,\n",
    "            20: 0}\n",
    "sniper_kwargs['schedule'] = schedule"
   ]
  },
  {
   "cell_type": "code",
   "execution_count": 39,
   "metadata": {},
   "outputs": [
    {
     "name": "stdout",
     "output_type": "stream",
     "text": [
      "SGD (\n",
      "Parameter Group 0\n",
      "    dampening: 0\n",
      "    differentiable: False\n",
      "    foreach: None\n",
      "    lr: 0.03\n",
      "    maximize: False\n",
      "    momentum: 0\n",
      "    name: linear_relu_stack.0.weight\n",
      "    nesterov: False\n",
      "    weight_decay: 0\n",
      "\n",
      "Parameter Group 1\n",
      "    dampening: 0\n",
      "    differentiable: False\n",
      "    foreach: None\n",
      "    lr: 0.03\n",
      "    maximize: False\n",
      "    momentum: 0\n",
      "    name: linear_relu_stack.0.bias\n",
      "    nesterov: False\n",
      "    weight_decay: 0\n",
      "\n",
      "Parameter Group 2\n",
      "    dampening: 0\n",
      "    differentiable: False\n",
      "    foreach: None\n",
      "    lr: 0.03\n",
      "    maximize: False\n",
      "    momentum: 0\n",
      "    name: linear_relu_stack.2.weight\n",
      "    nesterov: False\n",
      "    weight_decay: 0\n",
      "\n",
      "Parameter Group 3\n",
      "    dampening: 0\n",
      "    differentiable: False\n",
      "    foreach: None\n",
      "    lr: 0.03\n",
      "    maximize: False\n",
      "    momentum: 0\n",
      "    name: linear_relu_stack.2.bias\n",
      "    nesterov: False\n",
      "    weight_decay: 0\n",
      "\n",
      "Parameter Group 4\n",
      "    dampening: 0\n",
      "    differentiable: False\n",
      "    foreach: None\n",
      "    lr: 0.03\n",
      "    maximize: False\n",
      "    momentum: 0\n",
      "    name: linear_relu_stack.4.weight\n",
      "    nesterov: False\n",
      "    weight_decay: 0\n",
      "\n",
      "Parameter Group 5\n",
      "    dampening: 0\n",
      "    differentiable: False\n",
      "    foreach: None\n",
      "    lr: 0.03\n",
      "    maximize: False\n",
      "    momentum: 0\n",
      "    name: linear_relu_stack.4.bias\n",
      "    nesterov: False\n",
      "    weight_decay: 0\n",
      ")\n",
      "Loading initial model state from masks/init_values.pt\n",
      "All required sparsities present\n",
      "Loading sparsity 80...\n",
      "Loaded mask from masks/masks_80.pt\n",
      "Setting new learning rates\n",
      "Adding mask operation to forward hook...\n",
      "Epoch 1\n",
      "-------------------------------\n",
      "Test Error: \n",
      " Accuracy: 77.3%, Avg loss: 0.619826 \n",
      "\n",
      "Epoch 2\n",
      "-------------------------------\n",
      "Test Error: \n",
      " Accuracy: 80.8%, Avg loss: 0.510305 \n",
      "\n",
      "Epoch 3\n",
      "-------------------------------\n",
      "Test Error: \n",
      " Accuracy: 82.8%, Avg loss: 0.460078 \n",
      "\n",
      "Epoch 4\n",
      "-------------------------------\n",
      "Test Error: \n",
      " Accuracy: 84.1%, Avg loss: 0.425374 \n",
      "\n",
      "Epoch 5\n",
      "-------------------------------\n",
      "Test Error: \n",
      " Accuracy: 84.7%, Avg loss: 0.407792 \n",
      "\n",
      "New sparsity scheduled: 40 -- replacing with new mask\n",
      "Loaded mask from masks/masks_40.pt\n",
      "Setting new learning rates\n",
      "Removing forward hook\n",
      "Adding new forward hook\n",
      "Restoring newly unmasked weights to initial values\n",
      "Epoch 6\n",
      "-------------------------------\n",
      "Test Error: \n",
      " Accuracy: 86.5%, Avg loss: 0.373631 \n",
      "\n",
      "Epoch 7\n",
      "-------------------------------\n",
      "Test Error: \n",
      " Accuracy: 86.7%, Avg loss: 0.367190 \n",
      "\n",
      "Epoch 8\n",
      "-------------------------------\n",
      "Test Error: \n",
      " Accuracy: 87.0%, Avg loss: 0.360158 \n",
      "\n",
      "Epoch 9\n",
      "-------------------------------\n",
      "Test Error: \n",
      " Accuracy: 87.4%, Avg loss: 0.353930 \n",
      "\n",
      "Epoch 10\n",
      "-------------------------------\n",
      "Test Error: \n",
      " Accuracy: 87.5%, Avg loss: 0.350611 \n",
      "\n",
      "New sparsity scheduled: 20 -- replacing with new mask\n",
      "Loaded mask from masks/masks_20.pt\n",
      "Setting new learning rates\n",
      "Removing forward hook\n",
      "Adding new forward hook\n",
      "Restoring newly unmasked weights to initial values\n",
      "Epoch 11\n",
      "-------------------------------\n",
      "Test Error: \n",
      " Accuracy: 87.7%, Avg loss: 0.340984 \n",
      "\n",
      "Epoch 12\n",
      "-------------------------------\n",
      "Test Error: \n",
      " Accuracy: 87.8%, Avg loss: 0.339053 \n",
      "\n",
      "Epoch 13\n",
      "-------------------------------\n",
      "Test Error: \n",
      " Accuracy: 88.0%, Avg loss: 0.335970 \n",
      "\n",
      "Epoch 14\n",
      "-------------------------------\n",
      "Test Error: \n",
      " Accuracy: 88.0%, Avg loss: 0.333956 \n",
      "\n",
      "Epoch 15\n",
      "-------------------------------\n",
      "Test Error: \n",
      " Accuracy: 87.9%, Avg loss: 0.334402 \n",
      "\n",
      "New sparsity scheduled: 10 -- replacing with new mask\n",
      "Loaded mask from masks/masks_10.pt\n",
      "Setting new learning rates\n",
      "Removing forward hook\n",
      "Adding new forward hook\n",
      "Restoring newly unmasked weights to initial values\n",
      "Epoch 16\n",
      "-------------------------------\n",
      "Test Error: \n",
      " Accuracy: 88.2%, Avg loss: 0.330423 \n",
      "\n",
      "Epoch 17\n",
      "-------------------------------\n",
      "Test Error: \n",
      " Accuracy: 88.3%, Avg loss: 0.329117 \n",
      "\n",
      "Epoch 18\n",
      "-------------------------------\n",
      "Test Error: \n",
      " Accuracy: 88.3%, Avg loss: 0.328808 \n",
      "\n",
      "Epoch 19\n",
      "-------------------------------\n",
      "Test Error: \n",
      " Accuracy: 88.2%, Avg loss: 0.328572 \n",
      "\n",
      "Epoch 20\n",
      "-------------------------------\n",
      "Test Error: \n",
      " Accuracy: 88.2%, Avg loss: 0.329047 \n",
      "\n",
      "New sparsity is 0 -- removing mask\n",
      "Removing forward hook\n",
      "Restoring newly unmasked weights to initial values\n",
      "Epoch 21\n",
      "-------------------------------\n",
      "Test Error: \n",
      " Accuracy: 88.3%, Avg loss: 0.324061 \n",
      "\n",
      "Epoch 22\n",
      "-------------------------------\n",
      "Test Error: \n",
      " Accuracy: 88.4%, Avg loss: 0.324402 \n",
      "\n",
      "Epoch 23\n",
      "-------------------------------\n",
      "Test Error: \n",
      " Accuracy: 88.5%, Avg loss: 0.323318 \n",
      "\n",
      "Epoch 24\n",
      "-------------------------------\n",
      "Test Error: \n",
      " Accuracy: 88.5%, Avg loss: 0.325035 \n",
      "\n",
      "Epoch 25\n",
      "-------------------------------\n",
      "Test Error: \n",
      " Accuracy: 88.6%, Avg loss: 0.324222 \n",
      "\n",
      "Epoch 26\n",
      "-------------------------------\n",
      "Test Error: \n",
      " Accuracy: 88.6%, Avg loss: 0.323179 \n",
      "\n",
      "Epoch 27\n",
      "-------------------------------\n",
      "Test Error: \n",
      " Accuracy: 88.6%, Avg loss: 0.324274 \n",
      "\n",
      "Epoch 28\n",
      "-------------------------------\n",
      "Test Error: \n",
      " Accuracy: 88.5%, Avg loss: 0.326522 \n",
      "\n",
      "Epoch 29\n",
      "-------------------------------\n",
      "Test Error: \n",
      " Accuracy: 88.4%, Avg loss: 0.328376 \n",
      "\n",
      "Epoch 30\n",
      "-------------------------------\n",
      "Test Error: \n",
      " Accuracy: 88.3%, Avg loss: 0.331349 \n",
      "\n"
     ]
    }
   ],
   "source": [
    "model = NeuralNetwork().to(device)\n",
    "sniper_losses = train_test(model, epochs=30, sniper=sniper, sniper_kwargs=sniper_kwargs)"
   ]
  },
  {
   "cell_type": "code",
   "execution_count": 40,
   "metadata": {},
   "outputs": [],
   "source": [
    "torch.save(model.state_dict(), \"sniper_model.pth\")"
   ]
  },
  {
   "cell_type": "markdown",
   "metadata": {},
   "source": [
    "Compare the losses now. We have the best of both worlds!"
   ]
  },
  {
   "cell_type": "code",
   "execution_count": 41,
   "metadata": {},
   "outputs": [
    {
     "data": {
      "text/plain": [
       "<matplotlib.legend.Legend at 0x7eb3223a6cb0>"
      ]
     },
     "execution_count": 41,
     "metadata": {},
     "output_type": "execute_result"
    },
    {
     "data": {
      "text/plain": [
       "<Figure size 640x480 with 0 Axes>"
      ]
     },
     "metadata": {},
     "output_type": "display_data"
    },
    {
     "data": {
      "image/png": "[encoded data removed]",
      "text/plain": [
       "<Figure size 1280x480 with 2 Axes>"
      ]
     },
     "metadata": {},
     "output_type": "display_data"
    }
   ],
   "source": [
    "width, height = plt.figure().get_size_inches()\n",
    "plt.figure(figsize=(width*2, height))\n",
    "\n",
    "# Test accuracy\n",
    "plt.subplot(1, 2, 1)\n",
    "plt.plot(sparsity80_losses[:, 0], sparsity80_losses[:, 1], 'y', label='sparsity80')\n",
    "plt.plot(normal_losses[:, 0], normal_losses[:, 1], 'b', label='normal')\n",
    "plt.plot(sniper_losses[:, 0], sniper_losses[:, 1], 'r', label='sniper')\n",
    "plt.xlabel('Epoch')\n",
    "plt.ylabel('Accuracy')\n",
    "\n",
    "# Test loss\n",
    "plt.subplot(1, 2, 2)\n",
    "plt.plot(sparsity80_losses[:, 0], sparsity80_losses[:, 2], 'y', label='sparsity80')\n",
    "plt.plot(normal_losses[:, 0], normal_losses[:, 2], 'b', label='normal')\n",
    "plt.plot(sniper_losses[:, 0], sniper_losses[:, 2], 'r', label='sniper')\n",
    "plt.xlabel('Epoch')\n",
    "plt.ylabel('Loss')\n",
    "\n",
    "plt.legend()"
   ]
  }
 ],
 "metadata": {
  "kernelspec": {
   "display_name": "Python 3 (ipykernel)",
   "language": "python",
   "name": "python3"
  },
  "language_info": {
   "codemirror_mode": {
    "name": "ipython",
    "version": 3
   },
   "file_extension": ".py",
   "mimetype": "text/x-python",
   "name": "python",
   "nbconvert_exporter": "python",
   "pygments_lexer": "ipython3",
   "version": "3.10.13"
  }
 },
 "nbformat": 4,
 "nbformat_minor": 1
}
